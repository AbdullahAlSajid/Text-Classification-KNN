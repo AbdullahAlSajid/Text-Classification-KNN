{
 "cells": [
  {
   "cell_type": "code",
   "execution_count": 1,
   "metadata": {},
   "outputs": [],
   "source": [
    "import json\n",
    "import pandas as pd\n",
    "import warnings\n",
    "warnings.filterwarnings('ignore')"
   ]
  },
  {
   "cell_type": "markdown",
   "metadata": {},
   "source": [
    "### Load Data "
   ]
  },
  {
   "cell_type": "code",
   "execution_count": 2,
   "metadata": {},
   "outputs": [
    {
     "data": {
      "text/html": [
       "<div>\n",
       "<style scoped>\n",
       "    .dataframe tbody tr th:only-of-type {\n",
       "        vertical-align: middle;\n",
       "    }\n",
       "\n",
       "    .dataframe tbody tr th {\n",
       "        vertical-align: top;\n",
       "    }\n",
       "\n",
       "    .dataframe thead th {\n",
       "        text-align: right;\n",
       "    }\n",
       "</style>\n",
       "<table border=\"1\" class=\"dataframe\">\n",
       "  <thead>\n",
       "    <tr style=\"text-align: right;\">\n",
       "      <th></th>\n",
       "      <th>business_id</th>\n",
       "      <th>categories</th>\n",
       "      <th>city</th>\n",
       "      <th>full_address</th>\n",
       "      <th>latitude</th>\n",
       "      <th>longitude</th>\n",
       "      <th>name</th>\n",
       "      <th>neighborhoods</th>\n",
       "      <th>open</th>\n",
       "      <th>review_count</th>\n",
       "      <th>stars</th>\n",
       "      <th>state</th>\n",
       "      <th>type</th>\n",
       "    </tr>\n",
       "  </thead>\n",
       "  <tbody>\n",
       "    <tr>\n",
       "      <th>0</th>\n",
       "      <td>rncjoVoEFUJGCUoC1JgnUA</td>\n",
       "      <td>[Accountants, Professional Services, Tax Servi...</td>\n",
       "      <td>Peoria</td>\n",
       "      <td>8466 W Peoria Ave\\nSte 6\\nPeoria, AZ 85345</td>\n",
       "      <td>33.581867</td>\n",
       "      <td>-112.241596</td>\n",
       "      <td>Peoria Income Tax Service</td>\n",
       "      <td>[]</td>\n",
       "      <td>True</td>\n",
       "      <td>3</td>\n",
       "      <td>5.0</td>\n",
       "      <td>AZ</td>\n",
       "      <td>business</td>\n",
       "    </tr>\n",
       "    <tr>\n",
       "      <th>1</th>\n",
       "      <td>0FNFSzCFP_rGUoJx8W7tJg</td>\n",
       "      <td>[Sporting Goods, Bikes, Shopping]</td>\n",
       "      <td>Phoenix</td>\n",
       "      <td>2149 W Wood Dr\\nPhoenix, AZ 85029</td>\n",
       "      <td>33.604054</td>\n",
       "      <td>-112.105933</td>\n",
       "      <td>Bike Doctor</td>\n",
       "      <td>[]</td>\n",
       "      <td>True</td>\n",
       "      <td>5</td>\n",
       "      <td>5.0</td>\n",
       "      <td>AZ</td>\n",
       "      <td>business</td>\n",
       "    </tr>\n",
       "    <tr>\n",
       "      <th>2</th>\n",
       "      <td>3f_lyB6vFK48ukH6ScvLHg</td>\n",
       "      <td>[]</td>\n",
       "      <td>Phoenix</td>\n",
       "      <td>1134 N Central Ave\\nPhoenix, AZ 85004</td>\n",
       "      <td>33.460526</td>\n",
       "      <td>-112.073933</td>\n",
       "      <td>Valley Permaculture Alliance</td>\n",
       "      <td>[]</td>\n",
       "      <td>True</td>\n",
       "      <td>4</td>\n",
       "      <td>5.0</td>\n",
       "      <td>AZ</td>\n",
       "      <td>business</td>\n",
       "    </tr>\n",
       "    <tr>\n",
       "      <th>3</th>\n",
       "      <td>usAsSV36QmUej8--yvN-dg</td>\n",
       "      <td>[Food, Grocery]</td>\n",
       "      <td>Phoenix</td>\n",
       "      <td>845 W Southern Ave\\nPhoenix, AZ 85041</td>\n",
       "      <td>33.392210</td>\n",
       "      <td>-112.085377</td>\n",
       "      <td>Food City</td>\n",
       "      <td>[]</td>\n",
       "      <td>True</td>\n",
       "      <td>5</td>\n",
       "      <td>3.5</td>\n",
       "      <td>AZ</td>\n",
       "      <td>business</td>\n",
       "    </tr>\n",
       "    <tr>\n",
       "      <th>4</th>\n",
       "      <td>PzOqRohWw7F7YEPBz6AubA</td>\n",
       "      <td>[Food, Bagels, Delis, Restaurants]</td>\n",
       "      <td>Glendale Az</td>\n",
       "      <td>6520 W Happy Valley Rd\\nSte 101\\nGlendale Az, ...</td>\n",
       "      <td>33.712797</td>\n",
       "      <td>-112.200264</td>\n",
       "      <td>Hot Bagels &amp; Deli</td>\n",
       "      <td>[]</td>\n",
       "      <td>True</td>\n",
       "      <td>14</td>\n",
       "      <td>3.5</td>\n",
       "      <td>AZ</td>\n",
       "      <td>business</td>\n",
       "    </tr>\n",
       "  </tbody>\n",
       "</table>\n",
       "</div>"
      ],
      "text/plain": [
       "              business_id                                         categories  \\\n",
       "0  rncjoVoEFUJGCUoC1JgnUA  [Accountants, Professional Services, Tax Servi...   \n",
       "1  0FNFSzCFP_rGUoJx8W7tJg                  [Sporting Goods, Bikes, Shopping]   \n",
       "2  3f_lyB6vFK48ukH6ScvLHg                                                 []   \n",
       "3  usAsSV36QmUej8--yvN-dg                                    [Food, Grocery]   \n",
       "4  PzOqRohWw7F7YEPBz6AubA                 [Food, Bagels, Delis, Restaurants]   \n",
       "\n",
       "          city                                       full_address   latitude  \\\n",
       "0       Peoria         8466 W Peoria Ave\\nSte 6\\nPeoria, AZ 85345  33.581867   \n",
       "1      Phoenix                  2149 W Wood Dr\\nPhoenix, AZ 85029  33.604054   \n",
       "2      Phoenix              1134 N Central Ave\\nPhoenix, AZ 85004  33.460526   \n",
       "3      Phoenix              845 W Southern Ave\\nPhoenix, AZ 85041  33.392210   \n",
       "4  Glendale Az  6520 W Happy Valley Rd\\nSte 101\\nGlendale Az, ...  33.712797   \n",
       "\n",
       "    longitude                          name neighborhoods  open  review_count  \\\n",
       "0 -112.241596     Peoria Income Tax Service            []  True             3   \n",
       "1 -112.105933                   Bike Doctor            []  True             5   \n",
       "2 -112.073933  Valley Permaculture Alliance            []  True             4   \n",
       "3 -112.085377                     Food City            []  True             5   \n",
       "4 -112.200264             Hot Bagels & Deli            []  True            14   \n",
       "\n",
       "   stars state      type  \n",
       "0    5.0    AZ  business  \n",
       "1    5.0    AZ  business  \n",
       "2    5.0    AZ  business  \n",
       "3    3.5    AZ  business  \n",
       "4    3.5    AZ  business  "
      ]
     },
     "execution_count": 2,
     "metadata": {},
     "output_type": "execute_result"
    }
   ],
   "source": [
    "# Load Yelp reviews data\n",
    "biz_f = open('data/yelp_academic_dataset_business.json')\n",
    "biz_df = pd.DataFrame([json.loads(x) for x in biz_f.readlines()])\n",
    "biz_f.close()\n",
    "biz_df.head()"
   ]
  },
  {
   "cell_type": "code",
   "execution_count": 3,
   "metadata": {},
   "outputs": [
    {
     "data": {
      "text/html": [
       "<div>\n",
       "<style scoped>\n",
       "    .dataframe tbody tr th:only-of-type {\n",
       "        vertical-align: middle;\n",
       "    }\n",
       "\n",
       "    .dataframe tbody tr th {\n",
       "        vertical-align: top;\n",
       "    }\n",
       "\n",
       "    .dataframe thead th {\n",
       "        text-align: right;\n",
       "    }\n",
       "</style>\n",
       "<table border=\"1\" class=\"dataframe\">\n",
       "  <thead>\n",
       "    <tr style=\"text-align: right;\">\n",
       "      <th></th>\n",
       "      <th>business_id</th>\n",
       "      <th>date</th>\n",
       "      <th>review_id</th>\n",
       "      <th>stars</th>\n",
       "      <th>text</th>\n",
       "      <th>type</th>\n",
       "      <th>user_id</th>\n",
       "      <th>votes</th>\n",
       "    </tr>\n",
       "  </thead>\n",
       "  <tbody>\n",
       "    <tr>\n",
       "      <th>0</th>\n",
       "      <td>9yKzy9PApeiPPOUJEtnvkg</td>\n",
       "      <td>2011-01-26</td>\n",
       "      <td>fWKvX83p0-ka4JS3dc6E5A</td>\n",
       "      <td>5</td>\n",
       "      <td>My wife took me here on my birthday for breakf...</td>\n",
       "      <td>review</td>\n",
       "      <td>rLtl8ZkDX5vH5nAx9C3q5Q</td>\n",
       "      <td>{'funny': 0, 'useful': 5, 'cool': 2}</td>\n",
       "    </tr>\n",
       "    <tr>\n",
       "      <th>1</th>\n",
       "      <td>ZRJwVLyzEJq1VAihDhYiow</td>\n",
       "      <td>2011-07-27</td>\n",
       "      <td>IjZ33sJrzXqU-0X6U8NwyA</td>\n",
       "      <td>5</td>\n",
       "      <td>I have no idea why some people give bad review...</td>\n",
       "      <td>review</td>\n",
       "      <td>0a2KyEL0d3Yb1V6aivbIuQ</td>\n",
       "      <td>{'funny': 0, 'useful': 0, 'cool': 0}</td>\n",
       "    </tr>\n",
       "    <tr>\n",
       "      <th>2</th>\n",
       "      <td>6oRAC4uyJCsJl1X0WZpVSA</td>\n",
       "      <td>2012-06-14</td>\n",
       "      <td>IESLBzqUCLdSzSqm0eCSxQ</td>\n",
       "      <td>4</td>\n",
       "      <td>love the gyro plate. Rice is so good and I als...</td>\n",
       "      <td>review</td>\n",
       "      <td>0hT2KtfLiobPvh6cDC8JQg</td>\n",
       "      <td>{'funny': 0, 'useful': 1, 'cool': 0}</td>\n",
       "    </tr>\n",
       "    <tr>\n",
       "      <th>3</th>\n",
       "      <td>_1QQZuf4zZOyFCvXc0o6Vg</td>\n",
       "      <td>2010-05-27</td>\n",
       "      <td>G-WvGaISbqqaMHlNnByodA</td>\n",
       "      <td>5</td>\n",
       "      <td>Rosie, Dakota, and I LOVE Chaparral Dog Park!!...</td>\n",
       "      <td>review</td>\n",
       "      <td>uZetl9T0NcROGOyFfughhg</td>\n",
       "      <td>{'funny': 0, 'useful': 2, 'cool': 1}</td>\n",
       "    </tr>\n",
       "    <tr>\n",
       "      <th>4</th>\n",
       "      <td>6ozycU1RpktNG2-1BroVtw</td>\n",
       "      <td>2012-01-05</td>\n",
       "      <td>1uJFq2r5QfJG_6ExMRCaGw</td>\n",
       "      <td>5</td>\n",
       "      <td>General Manager Scott Petello is a good egg!!!...</td>\n",
       "      <td>review</td>\n",
       "      <td>vYmM4KTsC8ZfQBg-j5MWkw</td>\n",
       "      <td>{'funny': 0, 'useful': 0, 'cool': 0}</td>\n",
       "    </tr>\n",
       "  </tbody>\n",
       "</table>\n",
       "</div>"
      ],
      "text/plain": [
       "              business_id        date               review_id  stars  \\\n",
       "0  9yKzy9PApeiPPOUJEtnvkg  2011-01-26  fWKvX83p0-ka4JS3dc6E5A      5   \n",
       "1  ZRJwVLyzEJq1VAihDhYiow  2011-07-27  IjZ33sJrzXqU-0X6U8NwyA      5   \n",
       "2  6oRAC4uyJCsJl1X0WZpVSA  2012-06-14  IESLBzqUCLdSzSqm0eCSxQ      4   \n",
       "3  _1QQZuf4zZOyFCvXc0o6Vg  2010-05-27  G-WvGaISbqqaMHlNnByodA      5   \n",
       "4  6ozycU1RpktNG2-1BroVtw  2012-01-05  1uJFq2r5QfJG_6ExMRCaGw      5   \n",
       "\n",
       "                                                text    type  \\\n",
       "0  My wife took me here on my birthday for breakf...  review   \n",
       "1  I have no idea why some people give bad review...  review   \n",
       "2  love the gyro plate. Rice is so good and I als...  review   \n",
       "3  Rosie, Dakota, and I LOVE Chaparral Dog Park!!...  review   \n",
       "4  General Manager Scott Petello is a good egg!!!...  review   \n",
       "\n",
       "                  user_id                                 votes  \n",
       "0  rLtl8ZkDX5vH5nAx9C3q5Q  {'funny': 0, 'useful': 5, 'cool': 2}  \n",
       "1  0a2KyEL0d3Yb1V6aivbIuQ  {'funny': 0, 'useful': 0, 'cool': 0}  \n",
       "2  0hT2KtfLiobPvh6cDC8JQg  {'funny': 0, 'useful': 1, 'cool': 0}  \n",
       "3  uZetl9T0NcROGOyFfughhg  {'funny': 0, 'useful': 2, 'cool': 1}  \n",
       "4  vYmM4KTsC8ZfQBg-j5MWkw  {'funny': 0, 'useful': 0, 'cool': 0}  "
      ]
     },
     "execution_count": 3,
     "metadata": {},
     "output_type": "execute_result"
    }
   ],
   "source": [
    "# Load Yelp reviews data\n",
    "review_file = open('data/yelp_academic_dataset_review.json')\n",
    "review_df = pd.DataFrame([json.loads(x) for x in review_file.readlines()])\n",
    "review_file.close()\n",
    "review_df.head()"
   ]
  },
  {
   "cell_type": "markdown",
   "metadata": {},
   "source": [
    "### Data Exploraion"
   ]
  },
  {
   "cell_type": "code",
   "execution_count": 4,
   "metadata": {},
   "outputs": [
    {
     "data": {
      "text/plain": [
       "(Index(['business_id', 'categories', 'city', 'full_address', 'latitude',\n",
       "        'longitude', 'name', 'neighborhoods', 'open', 'review_count', 'stars',\n",
       "        'state', 'type'],\n",
       "       dtype='object'),\n",
       " Index(['business_id', 'date', 'review_id', 'stars', 'text', 'type', 'user_id',\n",
       "        'votes'],\n",
       "       dtype='object'))"
      ]
     },
     "execution_count": 4,
     "metadata": {},
     "output_type": "execute_result"
    }
   ],
   "source": [
    "biz_df.columns, review_df.columns"
   ]
  },
  {
   "cell_type": "code",
   "execution_count": 5,
   "metadata": {},
   "outputs": [
    {
     "data": {
      "text/plain": [
       "0        [Accountants, Professional Services, Tax Servi...\n",
       "1                        [Sporting Goods, Bikes, Shopping]\n",
       "2                                                       []\n",
       "3                                          [Food, Grocery]\n",
       "4                       [Food, Bagels, Delis, Restaurants]\n",
       "5                    [Women's Clothing, Fashion, Shopping]\n",
       "6        [Music & DVDs, Books, Mags, Music & Video, Vin...\n",
       "7        [Event Planning & Services, Venues & Event Spa...\n",
       "8        [Art Schools, Specialty Schools, Shopping, Jew...\n",
       "9                                [Sandwiches, Restaurants]\n",
       "10       [Music & DVDs, Books, Mags, Music & Video, Mus...\n",
       "11                                  [Mexican, Restaurants]\n",
       "12                                         [Food, Grocery]\n",
       "13                                    [Pizza, Restaurants]\n",
       "14       [Hotels & Travel, Event Planning & Services, H...\n",
       "15                  [Department Stores, Fashion, Shopping]\n",
       "16                         [Window Washing, Home Services]\n",
       "17                                  [Burgers, Restaurants]\n",
       "18               [Kitchen & Bath, Shopping, Home & Garden]\n",
       "19                            [Food, Beer, Wine & Spirits]\n",
       "20                               [Plumbing, Home Services]\n",
       "21                              [Bars, Nightlife, Lounges]\n",
       "22                [Buffets, Dim Sum, Chinese, Restaurants]\n",
       "23                       [Burgers, Fast Food, Restaurants]\n",
       "24       [Department Stores, Fashion, Shopping, Drugsto...\n",
       "25                            [Shopping Centers, Shopping]\n",
       "26          [Food, Breweries, American (New), Restaurants]\n",
       "27       [Active Life, Dog Parks, Amateur Sports Teams,...\n",
       "28        [Pediatric Dentists, Health & Medical, Dentists]\n",
       "29                                    [Pizza, Restaurants]\n",
       "                               ...                        \n",
       "11507                      [Financial Services, Insurance]\n",
       "11508                               [Mexican, Restaurants]\n",
       "11509                                 [Pizza, Restaurants]\n",
       "11510                               [Car Wash, Automotive]\n",
       "11511                         [Landscaping, Home Services]\n",
       "11512                        [American (New), Restaurants]\n",
       "11513                               [Car Wash, Automotive]\n",
       "11514                                  [Thai, Restaurants]\n",
       "11515     [Used, Vintage & Consignment, Fashion, Shopping]\n",
       "11516                                 [Pizza, Restaurants]\n",
       "11517       [Pet Services, Pet Boarding/Pet Sitting, Pets]\n",
       "11518                                 [Cafes, Restaurants]\n",
       "11519    [Hotels & Travel, Event Planning & Services, H...\n",
       "11520                         [Hair Salons, Beauty & Spas]\n",
       "11521                          [Asian Fusion, Restaurants]\n",
       "11522                         [Shopping, Office Equipment]\n",
       "11523                                                   []\n",
       "11524                             [Barbers, Beauty & Spas]\n",
       "11525                [Shopping, Home & Garden, Appliances]\n",
       "11526    [Day Spas, Hotels & Travel, Beauty & Spas, Eve...\n",
       "11527         [Post Offices, Public Services & Government]\n",
       "11528                            [Sandwiches, Restaurants]\n",
       "11529    [Active Life, Amusement Parks, Nightlife, Bowl...\n",
       "11530                  [Automotive, Auto Parts & Supplies]\n",
       "11531    [Cosmetology Schools, Specialty Schools, Educa...\n",
       "11532                               [Mexican, Restaurants]\n",
       "11533                               [Mexican, Restaurants]\n",
       "11534                                      [Food, Grocery]\n",
       "11535                  [Greek, Mediterranean, Restaurants]\n",
       "11536                            [Print Media, Mass Media]\n",
       "Name: categories, Length: 11537, dtype: object"
      ]
     },
     "execution_count": 5,
     "metadata": {},
     "output_type": "execute_result"
    }
   ],
   "source": [
    "biz_df['categories']"
   ]
  },
  {
   "cell_type": "code",
   "execution_count": 6,
   "metadata": {},
   "outputs": [],
   "source": [
    "# Pull out only Nightlife, Restaurants, Food & Mexican businesses\n",
    "four_biz = biz_df[biz_df.apply(lambda x: 'Nightlife' in x['categories'] or\n",
    "'Restaurants' in x['categories'] or 'Food' in x['categories'] or 'Shopping' in x['categories'], axis=1)]\n",
    "\n",
    "# Join with the reviews to get all reviews on the four types of business\n",
    "four_biz_reviews = four_biz.merge(review_df, on='business_id', how='inner')\n",
    "\n",
    "# Trim away the features we won't use\n",
    "four_biz_reviews = four_biz_reviews[['business_id',\n",
    "                                    'text',\n",
    "                                    'categories']]\n"
   ]
  },
  {
   "cell_type": "markdown",
   "metadata": {},
   "source": [
    "### Numeric representation of categories"
   ]
  },
  {
   "cell_type": "code",
   "execution_count": 7,
   "metadata": {},
   "outputs": [],
   "source": [
    "####    Function for numeric representation of caegories\n",
    "def num_representation(categories):\n",
    "    if \"Nightlife\" in categories:\n",
    "        return '1'\n",
    "    elif \"Restaurants\" in categories:\n",
    "        return '2'\n",
    "    elif \"Food\" in categories:\n",
    "        return '3'\n",
    "    elif \"Shopping\" in categories:\n",
    "        return '4'\n",
    "four_biz_reviews['target'] = four_biz_reviews.apply(lambda x: num_representation(x['categories']), axis=1)"
   ]
  },
  {
   "cell_type": "code",
   "execution_count": 8,
   "metadata": {},
   "outputs": [
    {
     "name": "stdout",
     "output_type": "stream",
     "text": [
      "2    135902\n",
      "1     30136\n",
      "3     19827\n",
      "4     12360\n",
      "Name: target, dtype: int64\n"
     ]
    }
   ],
   "source": [
    "print(four_biz_reviews.target.value_counts())"
   ]
  },
  {
   "cell_type": "code",
   "execution_count": 9,
   "metadata": {},
   "outputs": [
    {
     "data": {
      "text/html": [
       "<div>\n",
       "<style scoped>\n",
       "    .dataframe tbody tr th:only-of-type {\n",
       "        vertical-align: middle;\n",
       "    }\n",
       "\n",
       "    .dataframe tbody tr th {\n",
       "        vertical-align: top;\n",
       "    }\n",
       "\n",
       "    .dataframe thead th {\n",
       "        text-align: right;\n",
       "    }\n",
       "</style>\n",
       "<table border=\"1\" class=\"dataframe\">\n",
       "  <thead>\n",
       "    <tr style=\"text-align: right;\">\n",
       "      <th></th>\n",
       "      <th>business_id</th>\n",
       "      <th>text</th>\n",
       "      <th>categories</th>\n",
       "      <th>target</th>\n",
       "    </tr>\n",
       "  </thead>\n",
       "  <tbody>\n",
       "    <tr>\n",
       "      <th>196</th>\n",
       "      <td>QL3vFMAsEHqfi1KGH-4igg</td>\n",
       "      <td>The place was pretty empty - even for an off n...</td>\n",
       "      <td>[Bars, Nightlife, Lounges]</td>\n",
       "      <td>1</td>\n",
       "    </tr>\n",
       "    <tr>\n",
       "      <th>197</th>\n",
       "      <td>QL3vFMAsEHqfi1KGH-4igg</td>\n",
       "      <td>Ugh, this place was so cheesy. It's like they ...</td>\n",
       "      <td>[Bars, Nightlife, Lounges]</td>\n",
       "      <td>1</td>\n",
       "    </tr>\n",
       "    <tr>\n",
       "      <th>198</th>\n",
       "      <td>QL3vFMAsEHqfi1KGH-4igg</td>\n",
       "      <td>Red Bar was perfect for a pre-dinner and post-...</td>\n",
       "      <td>[Bars, Nightlife, Lounges]</td>\n",
       "      <td>1</td>\n",
       "    </tr>\n",
       "    <tr>\n",
       "      <th>199</th>\n",
       "      <td>QL3vFMAsEHqfi1KGH-4igg</td>\n",
       "      <td>I went here for a birthday party on Saturday a...</td>\n",
       "      <td>[Bars, Nightlife, Lounges]</td>\n",
       "      <td>1</td>\n",
       "    </tr>\n",
       "    <tr>\n",
       "      <th>200</th>\n",
       "      <td>QL3vFMAsEHqfi1KGH-4igg</td>\n",
       "      <td>I've only been living in the Phoenix area for ...</td>\n",
       "      <td>[Bars, Nightlife, Lounges]</td>\n",
       "      <td>1</td>\n",
       "    </tr>\n",
       "  </tbody>\n",
       "</table>\n",
       "</div>"
      ],
      "text/plain": [
       "                business_id  \\\n",
       "196  QL3vFMAsEHqfi1KGH-4igg   \n",
       "197  QL3vFMAsEHqfi1KGH-4igg   \n",
       "198  QL3vFMAsEHqfi1KGH-4igg   \n",
       "199  QL3vFMAsEHqfi1KGH-4igg   \n",
       "200  QL3vFMAsEHqfi1KGH-4igg   \n",
       "\n",
       "                                                  text  \\\n",
       "196  The place was pretty empty - even for an off n...   \n",
       "197  Ugh, this place was so cheesy. It's like they ...   \n",
       "198  Red Bar was perfect for a pre-dinner and post-...   \n",
       "199  I went here for a birthday party on Saturday a...   \n",
       "200  I've only been living in the Phoenix area for ...   \n",
       "\n",
       "                     categories target  \n",
       "196  [Bars, Nightlife, Lounges]      1  \n",
       "197  [Bars, Nightlife, Lounges]      1  \n",
       "198  [Bars, Nightlife, Lounges]      1  \n",
       "199  [Bars, Nightlife, Lounges]      1  \n",
       "200  [Bars, Nightlife, Lounges]      1  "
      ]
     },
     "execution_count": 9,
     "metadata": {},
     "output_type": "execute_result"
    }
   ],
   "source": [
    "four_biz_reviews[four_biz_reviews['target'] == '1'].head()"
   ]
  },
  {
   "cell_type": "code",
   "execution_count": 10,
   "metadata": {},
   "outputs": [
    {
     "data": {
      "text/plain": [
       "(198225, 4)"
      ]
     },
     "execution_count": 10,
     "metadata": {},
     "output_type": "execute_result"
    }
   ],
   "source": [
    "four_biz_reviews.shape"
   ]
  },
  {
   "cell_type": "markdown",
   "metadata": {},
   "source": [
    "### Handling Imbalance Data"
   ]
  },
  {
   "cell_type": "code",
   "execution_count": 11,
   "metadata": {},
   "outputs": [
    {
     "name": "stdout",
     "output_type": "stream",
     "text": [
      "nightlife : (30136, 4) \n",
      "restaurants : (158430, 4) \n",
      "food : (33217, 4) \n",
      "shopping : (14335, 4)\n"
     ]
    }
   ],
   "source": [
    "nightlife = four_biz_reviews[four_biz_reviews.apply(lambda x: 'Nightlife' in x['categories'], axis=1)]\n",
    "restaurants = four_biz_reviews[four_biz_reviews.apply(lambda x: 'Restaurants' in x['categories'], axis=1)]\n",
    "food = four_biz_reviews[four_biz_reviews.apply(lambda x: 'Food' in x['categories'], axis=1)]\n",
    "shopping = four_biz_reviews[four_biz_reviews.apply(lambda x: 'Shopping' in x['categories'], axis=1)]\n",
    "print(f'nightlife : {nightlife.shape} \\nrestaurants : {restaurants.shape} \\nfood : {food.shape} \\nshopping : {shopping.shape}')"
   ]
  },
  {
   "cell_type": "code",
   "execution_count": 12,
   "metadata": {},
   "outputs": [
    {
     "data": {
      "text/plain": [
       "12901.5"
      ]
     },
     "execution_count": 12,
     "metadata": {},
     "output_type": "execute_result"
    }
   ],
   "source": [
    "# shopping\n",
    "(14335*.9)"
   ]
  },
  {
   "cell_type": "code",
   "execution_count": 13,
   "metadata": {},
   "outputs": [
    {
     "data": {
      "text/plain": [
       "0.38840051780714696"
      ]
     },
     "execution_count": 13,
     "metadata": {},
     "output_type": "execute_result"
    }
   ],
   "source": [
    "# food\n",
    "(14335*.9)/33217"
   ]
  },
  {
   "cell_type": "code",
   "execution_count": 14,
   "metadata": {},
   "outputs": [
    {
     "data": {
      "text/plain": [
       "0.08143344063624314"
      ]
     },
     "execution_count": 14,
     "metadata": {},
     "output_type": "execute_result"
    }
   ],
   "source": [
    "# restaurants\n",
    "(14335*.9)/158430"
   ]
  },
  {
   "cell_type": "code",
   "execution_count": 15,
   "metadata": {},
   "outputs": [
    {
     "data": {
      "text/plain": [
       "0.4281092381205203"
      ]
     },
     "execution_count": 15,
     "metadata": {},
     "output_type": "execute_result"
    }
   ],
   "source": [
    "# nightlife\n",
    "(14335*.9)/30136"
   ]
  },
  {
   "cell_type": "code",
   "execution_count": 16,
   "metadata": {},
   "outputs": [
    {
     "name": "stdout",
     "output_type": "stream",
     "text": [
      "(12902, 4) (12888, 4) (12898, 4) (12833, 4)\n"
     ]
    },
    {
     "data": {
      "text/plain": [
       "(51521, 4)"
      ]
     },
     "execution_count": 16,
     "metadata": {},
     "output_type": "execute_result"
    }
   ],
   "source": [
    "# Avoiding Data Imbalance\n",
    "shopping_subset = shopping.sample(frac=.9, random_state=123)\n",
    "food_subset = food.sample(frac=0.388, random_state=123)\n",
    "nightlife_subset = nightlife.sample(frac=0.428, random_state=123)\n",
    "restaurant_subset = restaurants.sample(frac=0.081, random_state=123)\n",
    "\n",
    "print(shopping_subset.shape, food_subset.shape, nightlife_subset.shape, restaurant_subset.shape)\n",
    "combined = pd.concat([shopping_subset, food_subset, nightlife_subset, restaurant_subset])\n",
    "combined.shape"
   ]
  },
  {
   "cell_type": "markdown",
   "metadata": {},
   "source": [
    "### Data Split"
   ]
  },
  {
   "cell_type": "code",
   "execution_count": 17,
   "metadata": {},
   "outputs": [
    {
     "data": {
      "text/plain": [
       "((36064, 4), (15457, 4))"
      ]
     },
     "execution_count": 17,
     "metadata": {},
     "output_type": "execute_result"
    }
   ],
   "source": [
    "from sklearn.model_selection import train_test_split\n",
    "\n",
    "# Split into training and test datasets\n",
    "training_data, test_data = train_test_split(combined, train_size=0.7, random_state=123)\n",
    "training_data.shape, test_data.shape"
   ]
  },
  {
   "cell_type": "markdown",
   "metadata": {},
   "source": [
    "### Data Representation"
   ]
  },
  {
   "cell_type": "code",
   "execution_count": 18,
   "metadata": {},
   "outputs": [
    {
     "name": "stdout",
     "output_type": "stream",
     "text": [
      "50314\n"
     ]
    }
   ],
   "source": [
    "import numpy as np\n",
    "from sklearn.feature_extraction.text import CountVectorizer\n",
    "from sklearn.feature_extraction.text import TfidfVectorizer, TfidfTransformer\n",
    "# Represent the review text as a bag-of-words\n",
    "bow_transform = CountVectorizer()\n",
    "X_tr_bow = bow_transform.fit_transform(training_data['text'])\n",
    "X_te_bow = bow_transform.transform(test_data['text'])\n",
    "\n",
    "print(len(bow_transform.vocabulary_))\n",
    "\n",
    "# target data\n",
    "y_tr = training_data['target']\n",
    "y_te = test_data['target']\n",
    "\n",
    "\n",
    "# Create the tf-idf representation using the bag-of-words matrix\n",
    "tfidf_trfm = TfidfTransformer(norm=None)\n",
    "X_tr_tfidf = tfidf_trfm.fit_transform(X_tr_bow)\n",
    "X_te_tfidf = tfidf_trfm.transform(X_te_bow)"
   ]
  },
  {
   "cell_type": "code",
   "execution_count": 19,
   "metadata": {},
   "outputs": [],
   "source": [
    "import sklearn.metrics as sm\n",
    "from sklearn.neighbors import KNeighborsClassifier"
   ]
  },
  {
   "cell_type": "markdown",
   "metadata": {},
   "source": [
    "### BOW"
   ]
  },
  {
   "cell_type": "code",
   "execution_count": 34,
   "metadata": {},
   "outputs": [],
   "source": [
    "error = []\n",
    "\n",
    "for i in range(1, 20):\n",
    "    knn = KNeighborsClassifier(n_neighbors=i)\n",
    "    knn.fit(X_tr_bow, y_tr)\n",
    "    pred_i = knn.predict(X_te_bow)\n",
    "    error.append(np.mean(pred_i != y_te))"
   ]
  },
  {
   "cell_type": "markdown",
   "metadata": {},
   "source": [
    "error = [0.5559940480041405,0.5890535032671281,0.5735912531539108,0.5721679497962089,0.5686743870091221,0.568415604580449,\n",
    "0.563434042828492,0.5584524810765349,0.5616872614349485,0.5589700459338811,0.5582583942550301,0.5536003105389145,0.5532121368959048,\n",
    " 0.5536003105389145,0.5466778805719091,0.5491363136443036,0.5473895322507601,0.5499126609303229,0.5494597916801449]"
   ]
  },
  {
   "cell_type": "code",
   "execution_count": 40,
   "metadata": {},
   "outputs": [
    {
     "data": {
      "text/plain": [
       "Text(0, 0.5, 'Mean Error')"
      ]
     },
     "execution_count": 40,
     "metadata": {},
     "output_type": "execute_result"
    },
    {
     "data": {
      "image/png": "[encoded data removed]",
      "text/plain": [
       "<Figure size 864x432 with 1 Axes>"
      ]
     },
     "metadata": {
      "needs_background": "light"
     },
     "output_type": "display_data"
    }
   ],
   "source": [
    "import pylab as pl\n",
    "import matplotlib.pyplot as plt\n",
    "%matplotlib inline\n",
    "\n",
    "## error is declared here incase it takes time to execute previous snippet\n",
    "#error = [0.5559940480041405,0.5890535032671281,0.5735912531539108,0.5721679497962089,0.5686743870091221,0.568415604580449, 0.563434042828492,0.5584524810765349,0.5616872614349485,0.5589700459338811,0.5582583942550301,0.5536003105389145,0.5532121368959048, 0.5536003105389145,0.5466778805719091,0.5491363136443036,0.5473895322507601,0.5499126609303229,0.5494597916801449]\n",
    "\n",
    "plt.figure(figsize=(12, 6))\n",
    "plt.plot(range(1, 20), error, color='black', linestyle='dashed', marker='o',\n",
    "         markerfacecolor='grey', markersize=10)\n",
    "plt.title('Error Rate K Value')\n",
    "plt.xlabel('K Value')\n",
    "plt.ylabel('Mean Error')"
   ]
  },
  {
   "cell_type": "markdown",
   "metadata": {},
   "source": [
    "### Ploting of \"error\" for BOW\n",
    "#### Considering (Nightlife * 0.428), (Restaurants * 0.081), (Food * 0.388) & (Shopping * 0.9) accordingly\n",
    "<img src=\"error_bow.png\">"
   ]
  },
  {
   "cell_type": "markdown",
   "metadata": {},
   "source": [
    "### BOW for K=3 "
   ]
  },
  {
   "cell_type": "code",
   "execution_count": 42,
   "metadata": {},
   "outputs": [
    {
     "data": {
      "text/plain": [
       "KNeighborsClassifier(algorithm='auto', leaf_size=30, metric='minkowski',\n",
       "           metric_params=None, n_jobs=None, n_neighbors=3, p=2,\n",
       "           weights='uniform')"
      ]
     },
     "execution_count": 42,
     "metadata": {},
     "output_type": "execute_result"
    }
   ],
   "source": [
    "# BOW for K=3, \n",
    "classifier = KNeighborsClassifier(n_neighbors=3)\n",
    "classifier.fit(X_tr_bow, y_tr)"
   ]
  },
  {
   "cell_type": "code",
   "execution_count": 43,
   "metadata": {},
   "outputs": [],
   "source": [
    "y_bow_pred = classifier.predict(X_te_bow)\n"
   ]
  },
  {
   "cell_type": "code",
   "execution_count": 44,
   "metadata": {},
   "outputs": [
    {
     "name": "stdout",
     "output_type": "stream",
     "text": [
      "[[2805 1587  201  163]\n",
      " [1994 2291  286  154]\n",
      " [1076  796  585  267]\n",
      " [1208  775  359  910]]\n",
      "              precision    recall  f1-score   support\n",
      "\n",
      "           1       0.40      0.59      0.47      4756\n",
      "           2       0.42      0.48      0.45      4725\n",
      "           3       0.41      0.21      0.28      2724\n",
      "           4       0.61      0.28      0.38      3252\n",
      "\n",
      "   micro avg       0.43      0.43      0.43     15457\n",
      "   macro avg       0.46      0.39      0.40     15457\n",
      "weighted avg       0.45      0.43      0.41     15457\n",
      "\n"
     ]
    }
   ],
   "source": [
    "\n",
    "from sklearn.metrics import classification_report, confusion_matrix\n",
    "print(confusion_matrix(y_te, y_bow_pred))\n",
    "print(classification_report(y_te, y_bow_pred))"
   ]
  },
  {
   "cell_type": "markdown",
   "metadata": {},
   "source": [
    "### BOW for K=8"
   ]
  },
  {
   "cell_type": "code",
   "execution_count": 46,
   "metadata": {},
   "outputs": [
    {
     "name": "stdout",
     "output_type": "stream",
     "text": [
      "[[2731 1733  166  126]\n",
      " [1826 2501  242  156]\n",
      " [ 832  967  624  301]\n",
      " [ 988  813  482  969]]\n",
      "              precision    recall  f1-score   support\n",
      "\n",
      "           1       0.43      0.57      0.49      4756\n",
      "           2       0.42      0.53      0.47      4725\n",
      "           3       0.41      0.23      0.29      2724\n",
      "           4       0.62      0.30      0.40      3252\n",
      "\n",
      "   micro avg       0.44      0.44      0.44     15457\n",
      "   macro avg       0.47      0.41      0.41     15457\n",
      "weighted avg       0.46      0.44      0.43     15457\n",
      "\n"
     ]
    }
   ],
   "source": [
    "#BOW for K=8\n",
    "classifier = KNeighborsClassifier(n_neighbors=8)\n",
    "classifier.fit(X_tr_bow, y_tr)\n",
    "y_bow_pred = classifier.predict(X_te_bow)\n",
    "from sklearn.metrics import classification_report, confusion_matrix\n",
    "print(confusion_matrix(y_te, y_bow_pred))\n",
    "print(classification_report(y_te, y_bow_pred))"
   ]
  },
  {
   "cell_type": "markdown",
   "metadata": {},
   "source": [
    "## TFIDF"
   ]
  },
  {
   "cell_type": "code",
   "execution_count": 20,
   "metadata": {},
   "outputs": [],
   "source": [
    "error_tfidf = []\n",
    "\n",
    "\n",
    "for i in range(1, 20):\n",
    "    knn = KNeighborsClassifier(n_neighbors=i)\n",
    "    knn.fit(X_tr_tfidf, y_tr)\n",
    "    pred_i = knn.predict(X_te_tfidf)\n",
    "    error_tfidf.append(np.mean(pred_i != y_te))"
   ]
  },
  {
   "cell_type": "markdown",
   "metadata": {},
   "source": [
    "error_tfidf [0.4396713463155852,0.47551271268680856,0.4548101183929611,0.45377498867826876,0.4572685514653555,0.45371029307110045,0.45409846671411014,0.4536455974639322,\n",
    " 0.45474542278579283,0.4561040305363266,0.4596622889305816,0.4565568997865045,0.45765672510836514,0.46076211425244223,0.46542019796855794,0.46639063207608206,\n",
    " 0.4666494145047551,0.4669081969334282,0.4696254124344957]"
   ]
  },
  {
   "cell_type": "code",
   "execution_count": 25,
   "metadata": {},
   "outputs": [
    {
     "data": {
      "text/plain": [
       "Text(0, 0.5, 'Mean Error')"
      ]
     },
     "execution_count": 25,
     "metadata": {},
     "output_type": "execute_result"
    },
    {
     "data": {
      "image/png": "[encoded data removed]",
      "text/plain": [
       "<Figure size 864x432 with 1 Axes>"
      ]
     },
     "metadata": {
      "needs_background": "light"
     },
     "output_type": "display_data"
    }
   ],
   "source": [
    "import pylab as pl\n",
    "import matplotlib.pyplot as plt\n",
    "%matplotlib inline\n",
    "\n",
    "## error_tfidf is declared here incase it takes time to execute previous snippet\n",
    "#error_tfidf = [0.4396713463155852,0.47551271268680856,0.4548101183929611,0.45377498867826876,0.4572685514653555,0.45371029307110045,0.45409846671411014,0.4536455974639322,0.45474542278579283,0.4561040305363266,0.4596622889305816,0.4565568997865045,0.45765672510836514,0.46076211425244223,0.46542019796855794,0.46639063207608206,0.4666494145047551,0.4669081969334282,0.4696254124344957]\n",
    "plt.figure(figsize=(12, 6))\n",
    "plt.plot(range(1, 20), error_tfidf, color='black', linestyle='dashed', marker='o',\n",
    "         markerfacecolor='grey', markersize=10)\n",
    "plt.title('Error Rate K Value')\n",
    "plt.xlabel('K Value')\n",
    "plt.ylabel('Mean Error')"
   ]
  },
  {
   "cell_type": "markdown",
   "metadata": {},
   "source": [
    "### Ploting of \"error\" for TFIDF\n",
    "#### Considering (Nightlife * 0.428), (Restaurants * 0.081), (Food * 0.388) & (Shopping * 0.9) accordingly\n",
    "<img src=\"error_tfidf.png\">"
   ]
  },
  {
   "cell_type": "markdown",
   "metadata": {},
   "source": [
    "### TFIDF for K=3  "
   ]
  },
  {
   "cell_type": "code",
   "execution_count": 29,
   "metadata": {},
   "outputs": [
    {
     "data": {
      "text/plain": [
       "KNeighborsClassifier(algorithm='auto', leaf_size=30, metric='minkowski',\n",
       "           metric_params=None, n_jobs=None, n_neighbors=3, p=2,\n",
       "           weights='uniform')"
      ]
     },
     "execution_count": 29,
     "metadata": {},
     "output_type": "execute_result"
    }
   ],
   "source": [
    "classifier = KNeighborsClassifier(n_neighbors=3)\n",
    "classifier.fit(X_tr_tfidf, y_tr)"
   ]
  },
  {
   "cell_type": "code",
   "execution_count": 30,
   "metadata": {},
   "outputs": [],
   "source": [
    "y_tfidf_pred = classifier.predict(X_te_tfidf)"
   ]
  },
  {
   "cell_type": "code",
   "execution_count": 31,
   "metadata": {
    "scrolled": true
   },
   "outputs": [
    {
     "name": "stdout",
     "output_type": "stream",
     "text": [
      "[[3056 1464  141   95]\n",
      " [1559 2751  314  101]\n",
      " [ 615  711 1171  227]\n",
      " [ 719  706  378 1449]]\n",
      "              precision    recall  f1-score   support\n",
      "\n",
      "           1       0.51      0.64      0.57      4756\n",
      "           2       0.49      0.58      0.53      4725\n",
      "           3       0.58      0.43      0.50      2724\n",
      "           4       0.77      0.45      0.57      3252\n",
      "\n",
      "   micro avg       0.55      0.55      0.55     15457\n",
      "   macro avg       0.59      0.53      0.54     15457\n",
      "weighted avg       0.57      0.55      0.54     15457\n",
      "\n"
     ]
    }
   ],
   "source": [
    "from sklearn.metrics import classification_report, confusion_matrix\n",
    "\n",
    "print(confusion_matrix(y_te, y_tfidf_pred))\n",
    "print(classification_report(y_te, y_tfidf_pred))"
   ]
  },
  {
   "cell_type": "markdown",
   "metadata": {},
   "source": [
    "### TFIDF for K=6"
   ]
  },
  {
   "cell_type": "code",
   "execution_count": 32,
   "metadata": {},
   "outputs": [
    {
     "data": {
      "text/plain": [
       "KNeighborsClassifier(algorithm='auto', leaf_size=30, metric='minkowski',\n",
       "           metric_params=None, n_jobs=None, n_neighbors=6, p=2,\n",
       "           weights='uniform')"
      ]
     },
     "execution_count": 32,
     "metadata": {},
     "output_type": "execute_result"
    }
   ],
   "source": [
    "classifier = KNeighborsClassifier(n_neighbors=6)\n",
    "classifier.fit(X_tr_tfidf, y_tr)"
   ]
  },
  {
   "cell_type": "code",
   "execution_count": 33,
   "metadata": {},
   "outputs": [],
   "source": [
    "y_tfidf_pred = classifier.predict(X_te_tfidf)"
   ]
  },
  {
   "cell_type": "code",
   "execution_count": 34,
   "metadata": {},
   "outputs": [
    {
     "name": "stdout",
     "output_type": "stream",
     "text": [
      "[[3124 1417  156   59]\n",
      " [1519 2826  328   52]\n",
      " [ 610  721 1205  188]\n",
      " [ 737  756  470 1289]]\n",
      "              precision    recall  f1-score   support\n",
      "\n",
      "           1       0.52      0.66      0.58      4756\n",
      "           2       0.49      0.60      0.54      4725\n",
      "           3       0.56      0.44      0.49      2724\n",
      "           4       0.81      0.40      0.53      3252\n",
      "\n",
      "   micro avg       0.55      0.55      0.55     15457\n",
      "   macro avg       0.60      0.52      0.54     15457\n",
      "weighted avg       0.58      0.55      0.54     15457\n",
      "\n"
     ]
    }
   ],
   "source": [
    "print(confusion_matrix(y_te, y_tfidf_pred))\n",
    "print(classification_report(y_te, y_tfidf_pred))"
   ]
  },
  {
   "cell_type": "code",
   "execution_count": null,
   "metadata": {},
   "outputs": [],
   "source": []
  }
 ],
 "metadata": {
  "kernelspec": {
   "display_name": "Python 3",
   "language": "python",
   "name": "python3"
  },
  "language_info": {
   "codemirror_mode": {
    "name": "ipython",
    "version": 3
   },
   "file_extension": ".py",
   "mimetype": "text/x-python",
   "name": "python",
   "nbconvert_exporter": "python",
   "pygments_lexer": "ipython3",
   "version": "3.7.3"
  }
 },
 "nbformat": 4,
 "nbformat_minor": 2
}
